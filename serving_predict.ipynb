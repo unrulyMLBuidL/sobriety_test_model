{
 "cells": [
  {
   "cell_type": "code",
   "execution_count": 1,
   "metadata": {},
   "outputs": [],
   "source": [
    "import requests"
   ]
  },
  {
   "cell_type": "code",
   "execution_count": 2,
   "metadata": {},
   "outputs": [],
   "source": [
    "url = 'http://localhost:9696/predict'"
   ]
  },
  {
   "cell_type": "code",
   "execution_count": 3,
   "metadata": {},
   "outputs": [],
   "source": [
    "tester = {\n",
    "\"sex\"   : \"Male\",\n",
    "\"age\"   : 35,\n",
    "\"height\" : 180,\n",
    "\"weight\"  : 70,\n",
    "\"waistline\" : 78.0,\n",
    "\"sight_left\" : 1.0,\n",
    "\"sight_right\" :1.0,\n",
    "\"hear_left\"  : 1.0,\n",
    "\"hear_right\" : 1.0,\n",
    "\"SBP\"    : 108.0,\n",
    "\"DBP\"      :            60.0,\n",
    "\"BLDS\"      :           85.0,\n",
    "\"tot_chole\"  :         159.0,\n",
    "\"HDL_chole\"   :         67.0,\n",
    "\"LDL_chole\"    :        78.0,\n",
    "\"triglyceride\"  :       68.0,\n",
    "\"hemoglobin\"     :      15.1,\n",
    "\"urine_protein\"   :      1.0,\n",
    "\"serum_creatinine\" :     0.9,\n",
    "\"SGOT_AST\"          :   20.0,\n",
    "\"SGOT_ALT\"           :  13.0,\n",
    "\"gamma_GTP\"           : 13.0,\n",
    "\"SMK_stat_type_cd\"     : 2.0\n",
    "}"
   ]
  },
  {
   "cell_type": "code",
   "execution_count": 4,
   "metadata": {},
   "outputs": [
    {
     "data": {
      "text/plain": [
       "{'Sobriety test result': 'Sober'}"
      ]
     },
     "execution_count": 4,
     "metadata": {},
     "output_type": "execute_result"
    }
   ],
   "source": [
    "requests.post (url, json=tester).json()"
   ]
  }
 ],
 "metadata": {
  "kernelspec": {
   "display_name": "Python 3",
   "language": "python",
   "name": "python3"
  },
  "language_info": {
   "codemirror_mode": {
    "name": "ipython",
    "version": 3
   },
   "file_extension": ".py",
   "mimetype": "text/x-python",
   "name": "python",
   "nbconvert_exporter": "python",
   "pygments_lexer": "ipython3",
   "version": "3.10.12"
  }
 },
 "nbformat": 4,
 "nbformat_minor": 2
}
