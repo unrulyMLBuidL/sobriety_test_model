{
 "cells": [
  {
   "cell_type": "code",
   "execution_count": 20,
   "metadata": {},
   "outputs": [],
   "source": [
    "import pandas as pd\n",
    "import numpy as np\n",
    "\n",
    "import matplotlib as plt\n",
    "import seaborn as sns\n",
    "\n",
    "\n",
    "from sklearn.model_selection import train_test_split\n",
    "from sklearn.metrics import auc, roc_auc_score, mutual_info_score\n",
    "\n",
    "\n",
    "from sklearn.feature_extraction import DictVectorizer\n",
    "from sklearn.tree import DecisionTreeClassifier\n",
    "from sklearn.tree import export_text\n",
    "\n",
    "\n",
    "%matplotlib inline"
   ]
  },
  {
   "cell_type": "code",
   "execution_count": 21,
   "metadata": {},
   "outputs": [],
   "source": [
    "dataset = pd.read_csv('smoking_driking_dataset_Ver01.csv')"
   ]
  },
  {
   "cell_type": "code",
   "execution_count": 22,
   "metadata": {},
   "outputs": [],
   "source": [
    "drinker_smoker_values = {\n",
    "    \"Y\": 0.0,\n",
    "    \"N\": 1.0\n",
    "}"
   ]
  },
  {
   "cell_type": "code",
   "execution_count": 23,
   "metadata": {},
   "outputs": [],
   "source": [
    "dataset.DRK_YN = dataset.DRK_YN.map(drinker_smoker_values)"
   ]
  },
  {
   "cell_type": "code",
   "execution_count": 24,
   "metadata": {},
   "outputs": [
    {
     "data": {
      "text/plain": [
       "Index(['waistline', 'sight_left', 'sight_right', 'hear_left', 'hear_right',\n",
       "       'SBP', 'DBP', 'BLDS', 'tot_chole', 'HDL_chole', 'LDL_chole',\n",
       "       'triglyceride', 'hemoglobin', 'urine_protein', 'serum_creatinine',\n",
       "       'SGOT_AST', 'SGOT_ALT', 'gamma_GTP', 'SMK_stat_type_cd', 'DRK_YN'],\n",
       "      dtype='object')"
      ]
     },
     "execution_count": 24,
     "metadata": {},
     "output_type": "execute_result"
    }
   ],
   "source": [
    "dataset.dtypes[dataset.dtypes == 'float64'].index"
   ]
  },
  {
   "cell_type": "code",
   "execution_count": 25,
   "metadata": {},
   "outputs": [
    {
     "data": {
      "text/plain": [
       "Index(['age', 'height', 'weight'], dtype='object')"
      ]
     },
     "execution_count": 25,
     "metadata": {},
     "output_type": "execute_result"
    }
   ],
   "source": [
    "dataset.dtypes[dataset.dtypes == 'int64'].index"
   ]
  },
  {
   "cell_type": "code",
   "execution_count": 26,
   "metadata": {},
   "outputs": [
    {
     "data": {
      "text/plain": [
       "Index(['sex'], dtype='object')"
      ]
     },
     "execution_count": 26,
     "metadata": {},
     "output_type": "execute_result"
    }
   ],
   "source": [
    "dataset.dtypes[dataset.dtypes == 'object'].index"
   ]
  },
  {
   "cell_type": "markdown",
   "metadata": {},
   "source": [
    "FEATURE IMPORTANCE ANALYSIS"
   ]
  },
  {
   "cell_type": "code",
   "execution_count": 27,
   "metadata": {},
   "outputs": [],
   "source": [
    "numerical = ['waistline', 'sight_left', 'sight_right', 'hear_left', 'hear_right',\n",
    "       'SBP', 'DBP', 'BLDS', 'tot_chole', 'HDL_chole', 'LDL_chole',\n",
    "       'triglyceride', 'hemoglobin', 'urine_protein', 'serum_creatinine',\n",
    "       'SGOT_AST', 'SGOT_ALT', 'gamma_GTP', 'SMK_stat_type_cd', 'age', 'height', 'weight', 'DRK_YN']\n",
    "\n",
    "categorical = ['sex']"
   ]
  },
  {
   "cell_type": "markdown",
   "metadata": {},
   "source": [
    "Feature Importance"
   ]
  },
  {
   "cell_type": "code",
   "execution_count": 28,
   "metadata": {},
   "outputs": [
    {
     "name": "stdout",
     "output_type": "stream",
     "text": [
      "auc_waistline : 0.4273785842629949\n",
      "auc_sight_left : 0.4059442677288099\n",
      "auc_sight_right : 0.4070324316667529\n",
      "auc_hear_left : 0.510188519873034\n",
      "auc_hear_right : 0.5100093462419185\n",
      "auc_SBP : 0.4783469092969225\n",
      "auc_DBP : 0.4428163663202854\n",
      "auc_BLDS : 0.4789030518071586\n",
      "auc_tot_chole : 0.48815697193361085\n",
      "auc_HDL_chole : 0.4749650128116041\n",
      "auc_LDL_chole : 0.5240000277364043\n",
      "auc_triglyceride : 0.4504169126344498\n",
      "auc_hemoglobin : 0.31664995964201453\n",
      "auc_urine_protein : 0.4988622607424187\n",
      "auc_serum_creatinine : 0.3928210121111383\n",
      "auc_SGOT_AST : 0.46338448684017886\n",
      "auc_SGOT_ALT : 0.44220126768265067\n",
      "auc_gamma_GTP : 0.3271484904759476\n",
      "auc_SMK_stat_type_cd : 0.31804594538662473\n",
      "auc_age : 0.662732566280127\n",
      "auc_height : 0.2840790123229906\n",
      "auc_weight : 0.3435157789654849\n",
      "auc_DRK_YN : 1.0\n"
     ]
    }
   ],
   "source": [
    "score = []\n",
    "\n",
    "for num in numerical:\n",
    "    auc_score = roc_auc_score(dataset['DRK_YN'], dataset[num])\n",
    "    score.append(auc_score)\n",
    "\n",
    "    print(f'auc_{num} : {auc_score}') "
   ]
  },
  {
   "cell_type": "code",
   "execution_count": 29,
   "metadata": {},
   "outputs": [
    {
     "data": {
      "text/html": [
       "<div>\n",
       "<style scoped>\n",
       "    .dataframe tbody tr th:only-of-type {\n",
       "        vertical-align: middle;\n",
       "    }\n",
       "\n",
       "    .dataframe tbody tr th {\n",
       "        vertical-align: top;\n",
       "    }\n",
       "\n",
       "    .dataframe thead th {\n",
       "        text-align: right;\n",
       "    }\n",
       "</style>\n",
       "<table border=\"1\" class=\"dataframe\">\n",
       "  <thead>\n",
       "    <tr style=\"text-align: right;\">\n",
       "      <th></th>\n",
       "      <th>auc_score</th>\n",
       "    </tr>\n",
       "  </thead>\n",
       "  <tbody>\n",
       "    <tr>\n",
       "      <th>waistline</th>\n",
       "      <td>0.427379</td>\n",
       "    </tr>\n",
       "    <tr>\n",
       "      <th>sight_left</th>\n",
       "      <td>0.405944</td>\n",
       "    </tr>\n",
       "    <tr>\n",
       "      <th>sight_right</th>\n",
       "      <td>0.407032</td>\n",
       "    </tr>\n",
       "    <tr>\n",
       "      <th>hear_left</th>\n",
       "      <td>0.510189</td>\n",
       "    </tr>\n",
       "    <tr>\n",
       "      <th>hear_right</th>\n",
       "      <td>0.510009</td>\n",
       "    </tr>\n",
       "    <tr>\n",
       "      <th>SBP</th>\n",
       "      <td>0.478347</td>\n",
       "    </tr>\n",
       "    <tr>\n",
       "      <th>DBP</th>\n",
       "      <td>0.442816</td>\n",
       "    </tr>\n",
       "    <tr>\n",
       "      <th>BLDS</th>\n",
       "      <td>0.478903</td>\n",
       "    </tr>\n",
       "    <tr>\n",
       "      <th>tot_chole</th>\n",
       "      <td>0.488157</td>\n",
       "    </tr>\n",
       "    <tr>\n",
       "      <th>HDL_chole</th>\n",
       "      <td>0.474965</td>\n",
       "    </tr>\n",
       "    <tr>\n",
       "      <th>LDL_chole</th>\n",
       "      <td>0.524000</td>\n",
       "    </tr>\n",
       "    <tr>\n",
       "      <th>triglyceride</th>\n",
       "      <td>0.450417</td>\n",
       "    </tr>\n",
       "    <tr>\n",
       "      <th>hemoglobin</th>\n",
       "      <td>0.316650</td>\n",
       "    </tr>\n",
       "    <tr>\n",
       "      <th>urine_protein</th>\n",
       "      <td>0.498862</td>\n",
       "    </tr>\n",
       "    <tr>\n",
       "      <th>serum_creatinine</th>\n",
       "      <td>0.392821</td>\n",
       "    </tr>\n",
       "    <tr>\n",
       "      <th>SGOT_AST</th>\n",
       "      <td>0.463384</td>\n",
       "    </tr>\n",
       "    <tr>\n",
       "      <th>SGOT_ALT</th>\n",
       "      <td>0.442201</td>\n",
       "    </tr>\n",
       "    <tr>\n",
       "      <th>gamma_GTP</th>\n",
       "      <td>0.327148</td>\n",
       "    </tr>\n",
       "    <tr>\n",
       "      <th>SMK_stat_type_cd</th>\n",
       "      <td>0.318046</td>\n",
       "    </tr>\n",
       "    <tr>\n",
       "      <th>age</th>\n",
       "      <td>0.662733</td>\n",
       "    </tr>\n",
       "    <tr>\n",
       "      <th>height</th>\n",
       "      <td>0.284079</td>\n",
       "    </tr>\n",
       "    <tr>\n",
       "      <th>weight</th>\n",
       "      <td>0.343516</td>\n",
       "    </tr>\n",
       "    <tr>\n",
       "      <th>DRK_YN</th>\n",
       "      <td>1.000000</td>\n",
       "    </tr>\n",
       "  </tbody>\n",
       "</table>\n",
       "</div>"
      ],
      "text/plain": [
       "                  auc_score\n",
       "waistline          0.427379\n",
       "sight_left         0.405944\n",
       "sight_right        0.407032\n",
       "hear_left          0.510189\n",
       "hear_right         0.510009\n",
       "SBP                0.478347\n",
       "DBP                0.442816\n",
       "BLDS               0.478903\n",
       "tot_chole          0.488157\n",
       "HDL_chole          0.474965\n",
       "LDL_chole          0.524000\n",
       "triglyceride       0.450417\n",
       "hemoglobin         0.316650\n",
       "urine_protein      0.498862\n",
       "serum_creatinine   0.392821\n",
       "SGOT_AST           0.463384\n",
       "SGOT_ALT           0.442201\n",
       "gamma_GTP          0.327148\n",
       "SMK_stat_type_cd   0.318046\n",
       "age                0.662733\n",
       "height             0.284079\n",
       "weight             0.343516\n",
       "DRK_YN             1.000000"
      ]
     },
     "execution_count": 29,
     "metadata": {},
     "output_type": "execute_result"
    }
   ],
   "source": [
    "auc_score_fi = pd.DataFrame(score, columns=['auc_score'])\n",
    "auc_score_fi.set_index([numerical], inplace=True)\n",
    "auc_score_fi"
   ]
  },
  {
   "cell_type": "code",
   "execution_count": 30,
   "metadata": {},
   "outputs": [
    {
     "name": "stderr",
     "output_type": "stream",
     "text": [
      "/home/unruly-ubuntu/.local/lib/python3.10/site-packages/seaborn/_oldcore.py:1498: FutureWarning: is_categorical_dtype is deprecated and will be removed in a future version. Use isinstance(dtype, CategoricalDtype) instead\n",
      "  if pd.api.types.is_categorical_dtype(vector):\n",
      "/home/unruly-ubuntu/.local/lib/python3.10/site-packages/seaborn/_oldcore.py:1119: FutureWarning: use_inf_as_na option is deprecated and will be removed in a future version. Convert inf values to NaN before operating instead.\n",
      "  with pd.option_context('mode.use_inf_as_na', True):\n"
     ]
    },
    {
     "data": {
      "image/png": "[encoded data removed]",
      "text/plain": [
       "<Figure size 640x480 with 1 Axes>"
      ]
     },
     "metadata": {},
     "output_type": "display_data"
    }
   ],
   "source": [
    "sns.histplot(auc_score_fi, x='auc_score', kde=True, bins = 23)\n",
    "plt.pyplot.show()"
   ]
  },
  {
   "cell_type": "markdown",
   "metadata": {},
   "source": [
    "Feature importance : Correlation "
   ]
  },
  {
   "cell_type": "code",
   "execution_count": 31,
   "metadata": {},
   "outputs": [
    {
     "data": {
      "text/plain": [
       "waistline          -0.092993\n",
       "sight_left         -0.077379\n",
       "sight_right        -0.074806\n",
       "hear_left           0.058337\n",
       "hear_right          0.058230\n",
       "SBP                -0.033149\n",
       "DBP                -0.100876\n",
       "BLDS               -0.014713\n",
       "tot_chole          -0.019720\n",
       "HDL_chole          -0.042514\n",
       "LDL_chole           0.043693\n",
       "triglyceride       -0.104398\n",
       "hemoglobin         -0.299341\n",
       "urine_protein       0.003125\n",
       "serum_creatinine   -0.060798\n",
       "SGOT_AST           -0.039382\n",
       "SGOT_ALT           -0.062908\n",
       "gamma_GTP          -0.205094\n",
       "SMK_stat_type_cd   -0.350784\n",
       "age                 0.284587\n",
       "height             -0.374566\n",
       "weight             -0.264282\n",
       "DRK_YN              1.000000\n",
       "dtype: float64"
      ]
     },
     "execution_count": 31,
     "metadata": {},
     "output_type": "execute_result"
    }
   ],
   "source": [
    "dataset[numerical].corrwith(dataset.DRK_YN)"
   ]
  },
  {
   "cell_type": "markdown",
   "metadata": {},
   "source": [
    "Mutual Information of the categorical variable"
   ]
  },
  {
   "cell_type": "code",
   "execution_count": 32,
   "metadata": {},
   "outputs": [
    {
     "data": {
      "text/plain": [
       "0.06963942000755813"
      ]
     },
     "execution_count": 32,
     "metadata": {},
     "output_type": "execute_result"
    }
   ],
   "source": [
    "mi_cat = mutual_info_score(dataset.DRK_YN, dataset.sex)\n",
    "mi_cat"
   ]
  },
  {
   "cell_type": "code",
   "execution_count": 33,
   "metadata": {},
   "outputs": [
    {
     "data": {
      "text/plain": [
       "sex\n",
       "Male      526415\n",
       "Female    464931\n",
       "Name: count, dtype: int64"
      ]
     },
     "execution_count": 33,
     "metadata": {},
     "output_type": "execute_result"
    }
   ],
   "source": [
    "dataset.sex.value_counts()"
   ]
  },
  {
   "cell_type": "markdown",
   "metadata": {},
   "source": [
    "SPLIT THE DATA INTO HALF"
   ]
  },
  {
   "cell_type": "code",
   "execution_count": 34,
   "metadata": {},
   "outputs": [],
   "source": [
    "USE_NOW, USE_LATER = train_test_split(dataset, test_size=0.75, random_state=1)"
   ]
  },
  {
   "cell_type": "markdown",
   "metadata": {},
   "source": [
    "PROCEED WITH 'TO_BE_USED'"
   ]
  },
  {
   "cell_type": "code",
   "execution_count": 35,
   "metadata": {},
   "outputs": [],
   "source": [
    "Full_train, df_test = train_test_split(USE_NOW, test_size=0.20, random_state=1)\n",
    "df_train, df_val = train_test_split(Full_train, test_size=0.25, random_state=1)"
   ]
  },
  {
   "cell_type": "code",
   "execution_count": 36,
   "metadata": {},
   "outputs": [],
   "source": [
    "df_train = df_train.reset_index(drop=True)\n",
    "df_test = df_test.reset_index(drop=True)\n",
    "df_val = df_val.reset_index(drop=True)"
   ]
  },
  {
   "cell_type": "code",
   "execution_count": 37,
   "metadata": {},
   "outputs": [],
   "source": [
    "y_train = df_train.DRK_YN.values\n",
    "y_test = df_test.DRK_YN.values\n",
    "y_val = df_val.DRK_YN.values"
   ]
  },
  {
   "cell_type": "code",
   "execution_count": 38,
   "metadata": {},
   "outputs": [],
   "source": [
    "del df_train['DRK_YN']\n",
    "del df_test['DRK_YN']\n",
    "del df_val['DRK_YN']"
   ]
  },
  {
   "cell_type": "markdown",
   "metadata": {},
   "source": [
    "MODEL TRAINING"
   ]
  },
  {
   "cell_type": "code",
   "execution_count": 39,
   "metadata": {},
   "outputs": [
    {
     "data": {
      "text/plain": [
       "(148701, 23)"
      ]
     },
     "execution_count": 39,
     "metadata": {},
     "output_type": "execute_result"
    }
   ],
   "source": [
    "df_train.shape"
   ]
  },
  {
   "cell_type": "code",
   "execution_count": 40,
   "metadata": {},
   "outputs": [
    {
     "data": {
      "text/plain": [
       "sex                 0\n",
       "age                 0\n",
       "height              0\n",
       "weight              0\n",
       "waistline           0\n",
       "sight_left          0\n",
       "sight_right         0\n",
       "hear_left           0\n",
       "hear_right          0\n",
       "SBP                 0\n",
       "DBP                 0\n",
       "BLDS                0\n",
       "tot_chole           0\n",
       "HDL_chole           0\n",
       "LDL_chole           0\n",
       "triglyceride        0\n",
       "hemoglobin          0\n",
       "urine_protein       0\n",
       "serum_creatinine    0\n",
       "SGOT_AST            0\n",
       "SGOT_ALT            0\n",
       "gamma_GTP           0\n",
       "SMK_stat_type_cd    0\n",
       "dtype: int64"
      ]
     },
     "execution_count": 40,
     "metadata": {},
     "output_type": "execute_result"
    }
   ],
   "source": [
    "df_train.isnull().sum()"
   ]
  },
  {
   "cell_type": "code",
   "execution_count": 41,
   "metadata": {},
   "outputs": [],
   "source": [
    "train_dict = df_train.to_dict(orient='records')\n",
    "\n",
    "dv = DictVectorizer(sparse=False)\n",
    "\n",
    "X_train = dv.fit_transform(train_dict)\n"
   ]
  },
  {
   "cell_type": "code",
   "execution_count": 42,
   "metadata": {},
   "outputs": [
    {
     "data": {
      "text/plain": [
       "array(['BLDS', 'DBP', 'HDL_chole', 'LDL_chole', 'SBP', 'SGOT_ALT',\n",
       "       'SGOT_AST', 'SMK_stat_type_cd', 'age', 'gamma_GTP', 'hear_left',\n",
       "       'hear_right', 'height', 'hemoglobin', 'serum_creatinine',\n",
       "       'sex=Female', 'sex=Male', 'sight_left', 'sight_right', 'tot_chole',\n",
       "       'triglyceride', 'urine_protein', 'waistline', 'weight'],\n",
       "      dtype=object)"
      ]
     },
     "execution_count": 42,
     "metadata": {},
     "output_type": "execute_result"
    }
   ],
   "source": [
    "dv.get_feature_names_out()"
   ]
  },
  {
   "cell_type": "code",
   "execution_count": 43,
   "metadata": {},
   "outputs": [
    {
     "data": {
      "text/plain": [
       "DecisionTreeClassifier(max_depth=15)"
      ]
     },
     "execution_count": 43,
     "metadata": {},
     "output_type": "execute_result"
    }
   ],
   "source": [
    "dt = DecisionTreeClassifier(max_depth=15)\n",
    "dt.fit(X_train, y_train) "
   ]
  },
  {
   "cell_type": "code",
   "execution_count": 44,
   "metadata": {},
   "outputs": [
    {
     "data": {
      "text/plain": [
       "array([1., 0., 0., ..., 0., 0., 0.])"
      ]
     },
     "execution_count": 44,
     "metadata": {},
     "output_type": "execute_result"
    }
   ],
   "source": [
    "val_dicts = df_val.to_dict(orient='records')\n",
    "\n",
    "X_val = dv.transform(val_dicts)\n",
    "\n",
    "y_pred = dt.predict(X_val)\n",
    "y_pred"
   ]
  },
  {
   "cell_type": "code",
   "execution_count": 45,
   "metadata": {},
   "outputs": [
    {
     "name": "stdout",
     "output_type": "stream",
     "text": [
      "val : 0.6948468994022665\n",
      "train : 0.8318768746557711\n"
     ]
    }
   ],
   "source": [
    "auc_val = roc_auc_score(y_val, y_pred)\n",
    "print('val :',auc_val)\n",
    "y_pred = dt.predict(X_train)\n",
    "auc_train = roc_auc_score(y_train, y_pred)\n",
    "print('train :',auc_train)\n"
   ]
  },
  {
   "cell_type": "markdown",
   "metadata": {},
   "source": [
    "The model overfits at depth of None.\n"
   ]
  },
  {
   "cell_type": "markdown",
   "metadata": {},
   "source": [
    "PARAMETER TUNING\n",
    "- MAX DEPTH\n",
    "- MIN SAMPLE LEAVES\n"
   ]
  },
  {
   "cell_type": "code",
   "execution_count": 46,
   "metadata": {},
   "outputs": [],
   "source": [
    "auc_scores1 = []\n",
    "\n",
    "for md in [1,2,3,4,5,6,10,15,20, None]:\n",
    "    for min_L in [1, 2, 5, 10, 50, 100, 200, 300, 500]:\n",
    "        dt = DecisionTreeClassifier(max_depth=md, min_samples_leaf=min_L)\n",
    "        dt.fit(X_train, y_train) \n",
    "     \n",
    "        val_pred = dt.predict(X_val)\n",
    "        auc = roc_auc_score(y_val, val_pred)\n",
    "\n",
    "        auc_scores1.append((md, min_L, auc))\n",
    "        print(f'{md, min_L} -> {auc}')"
   ]
  },
  {
   "cell_type": "code",
   "execution_count": null,
   "metadata": {},
   "outputs": [],
   "source": [
    "auc_scores1 = pd.DataFrame(auc_scores1, columns=['max_depths', 'min_sample_leaf', 'auc'])\n",
    "auc_scores1"
   ]
  },
  {
   "cell_type": "code",
   "execution_count": null,
   "metadata": {},
   "outputs": [],
   "source": [
    "auc_scores1.sort_values(by='auc', ascending=False).head()"
   ]
  },
  {
   "cell_type": "code",
   "execution_count": null,
   "metadata": {},
   "outputs": [],
   "source": [
    "auc_score_pivot1 = auc_scores1.pivot(index='min_sample_leaf', columns=['max_depths'], values=['auc'] )\n",
    "auc_score_pivot1.round(4)"
   ]
  },
  {
   "cell_type": "code",
   "execution_count": null,
   "metadata": {},
   "outputs": [],
   "source": [
    "sns.heatmap(auc_score_pivot1, annot=True, fmt='.3f')"
   ]
  },
  {
   "cell_type": "markdown",
   "metadata": {},
   "source": [
    "Based on the difference in auc, seems the best parameter for train is a max_depth of 10 and min sample leaf of 500."
   ]
  },
  {
   "cell_type": "markdown",
   "metadata": {},
   "source": [
    "FINAL FULL TRAIN AND TESTING OF Decision Tree Model"
   ]
  },
  {
   "cell_type": "code",
   "execution_count": null,
   "metadata": {},
   "outputs": [],
   "source": [
    "Full_train = Full_train.reset_index(drop=True)\n",
    "y_Full_train = Full_train.DRK_YN.values\n",
    "\n",
    "del Full_train['DRK_YN']\n",
    "\n",
    "Full_train_dict = Full_train.to_dict(orient='records')\n",
    "dv = DictVectorizer(sparse=False)\n",
    "\n",
    "X_Full_train = dv.fit_transform(Full_train_dict)"
   ]
  },
  {
   "cell_type": "code",
   "execution_count": null,
   "metadata": {},
   "outputs": [],
   "source": [
    "dt = DecisionTreeClassifier(max_depth=10, min_samples_leaf=500)\n",
    "dt.fit(X_Full_train, y_Full_train)"
   ]
  },
  {
   "cell_type": "code",
   "execution_count": null,
   "metadata": {},
   "outputs": [],
   "source": [
    "test_dicts = df_test.to_dict(orient='records')\n",
    "X_test = dv.transform(test_dicts)\n",
    "\n",
    "y_pred = dt.predict(X_test)\n",
    "roc_auc_score(y_test, y_pred)\n"
   ]
  },
  {
   "cell_type": "markdown",
   "metadata": {},
   "source": [
    "TRAIN MODEL USING RANDOM FOREST MODEL"
   ]
  },
  {
   "cell_type": "code",
   "execution_count": null,
   "metadata": {},
   "outputs": [],
   "source": [
    "from sklearn.ensemble import RandomForestClassifier\n",
    "\n",
    "\n",
    "rf = RandomForestClassifier()\n",
    "rf.fit(X_train, y_train)"
   ]
  },
  {
   "cell_type": "code",
   "execution_count": null,
   "metadata": {},
   "outputs": [],
   "source": [
    "y_pred = rf.predict(X_val)\n",
    "\n",
    "roc_auc_score(y_val, y_pred)\n"
   ]
  },
  {
   "cell_type": "markdown",
   "metadata": {},
   "source": [
    "- n_estimator\n",
    "- random_state\n",
    "- max_depth\n",
    "- min_samples_leaf\n"
   ]
  },
  {
   "cell_type": "code",
   "execution_count": null,
   "metadata": {},
   "outputs": [],
   "source": [
    "score_line = []\n",
    "for d in [5, 10, 15]:\n",
    "    for n in range(10, 200, 10):\n",
    "        rf = RandomForestClassifier(criterion='gini', \n",
    "                                    n_estimators=n, \n",
    "                                    max_depth=d,\n",
    "                                    random_state=1)\n",
    "        rf.fit(X_train, y_train)\n",
    "\n",
    "        y_pred = rf.predict(X_val)\n",
    "        auc = roc_auc_score(y_val, y_pred)\n",
    "        score_line.append((n, d, auc))"
   ]
  },
  {
   "cell_type": "code",
   "execution_count": null,
   "metadata": {},
   "outputs": [],
   "source": [
    "score_line = pd.DataFrame(score_line, columns=['n_estimator', 'd', 'auc'])\n",
    "score_line.sort_values(by='auc', ascending=False)\n"
   ]
  },
  {
   "cell_type": "code",
   "execution_count": null,
   "metadata": {},
   "outputs": [],
   "source": [
    "score_line_pivot = score_line.pivot(index='n_estimator', columns=['d'], values=['auc'])"
   ]
  },
  {
   "cell_type": "code",
   "execution_count": null,
   "metadata": {},
   "outputs": [],
   "source": [
    "sns.heatmap(score_line_pivot, annot=True, fmt='.3f')"
   ]
  },
  {
   "cell_type": "markdown",
   "metadata": {},
   "source": [
    "Heat map shows max depth of 15 and n_estimator of 110"
   ]
  },
  {
   "cell_type": "code",
   "execution_count": null,
   "metadata": {},
   "outputs": [],
   "source": [
    "max_depth = 15"
   ]
  },
  {
   "cell_type": "code",
   "execution_count": null,
   "metadata": {},
   "outputs": [],
   "source": [
    "score_line2 = []\n",
    "\n",
    "\n",
    "for s in [5, 10, 15]:\n",
    "    for n in range(10, 200, 10):\n",
    "        rf = RandomForestClassifier(n_estimators=n,  \n",
    "                                     max_depth=max_depth,\n",
    "                                     min_samples_leaf=s,\n",
    "                                     random_state=1, n_jobs=-1)\n",
    "        rf.fit(X_train, y_train)\n",
    "\n",
    "        y_pred = rf.predict(X_val)\n",
    "\n",
    "        auc = roc_auc_score(y_val, y_pred)\n",
    "        score_line2.append((n, s, auc))"
   ]
  },
  {
   "cell_type": "code",
   "execution_count": null,
   "metadata": {},
   "outputs": [],
   "source": [
    "score_line2 = pd.DataFrame(score_line2, columns=['n', 's', 'auc'])\n",
    "score_line2.sort_values(by='auc', ascending=False)"
   ]
  }
 ],
 "metadata": {
  "kernelspec": {
   "display_name": "Python 3",
   "language": "python",
   "name": "python3"
  },
  "language_info": {
   "codemirror_mode": {
    "name": "ipython",
    "version": 3
   },
   "file_extension": ".py",
   "mimetype": "text/x-python",
   "name": "python",
   "nbconvert_exporter": "python",
   "pygments_lexer": "ipython3",
   "version": "3.10.12"
  },
  "orig_nbformat": 4
 },
 "nbformat": 4,
 "nbformat_minor": 2
}
